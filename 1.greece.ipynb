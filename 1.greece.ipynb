{
 "cells": [
  {
   "cell_type": "markdown",
   "metadata": {},
   "source": [
    "$\\alpha$ 와 $\\beta$의 값이 같다. "
   ]
  },
  {
   "cell_type": "markdown",
   "metadata": {},
   "source": [
    "$$ \\alpha = \\beta $$"
   ]
  },
  {
   "cell_type": "markdown",
   "metadata": {},
   "source": [
    "$\\alpha, \\beta, \\gamma, \\delta, \\epsilon, \\zeta, \\eta, \\theta, \\kappa, \\lambda, \\mu, \\nu, \\xi, \\pi, \\rho, \\sigma, \\tau, \\phi, \\chi, \\psi, \\omega$"
   ]
  },
  {
   "cell_type": "markdown",
   "metadata": {},
   "source": [
    "$$ \\alpha $$\n",
    "$$ \\beta $$\n",
    "$$ \\gamma $$\n",
    "$$ \\delta $$\n",
    "$$ \\epsilon $$\n",
    "$$ \\zeta $$\n",
    "$$ \\eta $$\n",
    "$$ \\theta $$\n",
    "$$ \\kappa $$\n",
    "$$ \\lambda $$\n",
    "$$ \\mu $$\n",
    "$$ \\nu $$\n",
    "$$ \\xi $$\n",
    "$$ \\pi $$\n",
    "$$ \\rho $$\n",
    "$$ \\sigma $$\n",
    "$$ \\tau $$\n",
    "$$ \\phi $$\n",
    "$$ \\chi $$\n",
    "$$ \\psi $$\n",
    "$$ \\omega $$\n"
   ]
  }
 ],
 "metadata": {
  "interpreter": {
   "hash": "06d533efe51c258403fa3948991ea6b21d345f257e77c51469577a8635b290aa"
  },
  "kernelspec": {
   "display_name": "Python 3.9.6 64-bit ('tf_gpu': conda)",
   "name": "python3"
  },
  "language_info": {
   "codemirror_mode": {
    "name": "ipython",
    "version": 3
   },
   "file_extension": ".py",
   "mimetype": "text/x-python",
   "name": "python",
   "nbconvert_exporter": "python",
   "pygments_lexer": "ipython3",
   "version": "3.9.6"
  },
  "orig_nbformat": 4
 },
 "nbformat": 4,
 "nbformat_minor": 2
}
