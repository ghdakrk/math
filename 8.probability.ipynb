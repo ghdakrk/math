{
 "cells": [
  {
   "cell_type": "code",
   "execution_count": 1,
   "metadata": {},
   "outputs": [
    {
     "data": {
      "text/plain": [
       "{1, 2, 3}"
      ]
     },
     "execution_count": 1,
     "metadata": {},
     "output_type": "execute_result"
    }
   ],
   "source": [
    "A  = set([1,2,3,3,2])\n",
    "A"
   ]
  },
  {
   "cell_type": "code",
   "execution_count": 2,
   "metadata": {},
   "outputs": [
    {
     "data": {
      "text/plain": [
       "frozenset({'H', 'T'})"
      ]
     },
     "execution_count": 2,
     "metadata": {},
     "output_type": "execute_result"
    }
   ],
   "source": [
    "B = frozenset(['H','T'])\n",
    "B"
   ]
  },
  {
   "cell_type": "code",
   "execution_count": 3,
   "metadata": {},
   "outputs": [
    {
     "data": {
      "text/plain": [
       "{'♠', '♡', '♢', '♣'}"
      ]
     },
     "execution_count": 3,
     "metadata": {},
     "output_type": "execute_result"
    }
   ],
   "source": [
    "C = {'\\u2660', '\\u2661', '\\u2662', '\\u2663'}\n",
    "C"
   ]
  },
  {
   "cell_type": "code",
   "execution_count": 4,
   "metadata": {},
   "outputs": [
    {
     "data": {
      "text/plain": [
       "{(1, 2), 3, 5}"
      ]
     },
     "execution_count": 4,
     "metadata": {},
     "output_type": "execute_result"
    }
   ],
   "source": [
    "D = {(1,2), 3, 5}\n",
    "D"
   ]
  },
  {
   "cell_type": "code",
   "execution_count": 5,
   "metadata": {},
   "outputs": [
    {
     "data": {
      "text/plain": [
       "set"
      ]
     },
     "execution_count": 5,
     "metadata": {},
     "output_type": "execute_result"
    }
   ],
   "source": [
    "omega = {'HH', 'HT', 'TH', 'TT'}\n",
    "type(omega)"
   ]
  },
  {
   "cell_type": "code",
   "execution_count": 6,
   "metadata": {},
   "outputs": [
    {
     "data": {
      "text/plain": [
       "{'HH', 'HT', 'TH', 'TT'}"
      ]
     },
     "execution_count": 6,
     "metadata": {},
     "output_type": "execute_result"
    }
   ],
   "source": [
    "omega"
   ]
  },
  {
   "cell_type": "code",
   "execution_count": 7,
   "metadata": {},
   "outputs": [
    {
     "data": {
      "text/plain": [
       "frozenset({(),\n",
       "           ('HH',),\n",
       "           ('HH', 'TH'),\n",
       "           ('HT',),\n",
       "           ('HT', 'HH'),\n",
       "           ('HT', 'HH', 'TH'),\n",
       "           ('HT', 'TH'),\n",
       "           ('TH',),\n",
       "           ('TT',),\n",
       "           ('TT', 'HH'),\n",
       "           ('TT', 'HH', 'TH'),\n",
       "           ('TT', 'HT'),\n",
       "           ('TT', 'HT', 'HH'),\n",
       "           ('TT', 'HT', 'HH', 'TH'),\n",
       "           ('TT', 'HT', 'TH'),\n",
       "           ('TT', 'TH')})"
      ]
     },
     "execution_count": 7,
     "metadata": {},
     "output_type": "execute_result"
    }
   ],
   "source": [
    "from itertools import chain, combinations\n",
    "result = list(chain(list(combinations(omega,0)), list(combinations(omega,1)), list(combinations(omega,2)), list(combinations(omega,3)), list(combinations(omega,4))))\n",
    "frozenset(result)\n"
   ]
  },
  {
   "cell_type": "code",
   "execution_count": 8,
   "metadata": {},
   "outputs": [],
   "source": [
    "A = set([1,3,5])\n",
    "B = set([1,2,3])\n",
    "C = set([2,4,6])"
   ]
  },
  {
   "cell_type": "code",
   "execution_count": 9,
   "metadata": {},
   "outputs": [
    {
     "data": {
      "text/plain": [
       "{1, 2, 3, 5}"
      ]
     },
     "execution_count": 9,
     "metadata": {},
     "output_type": "execute_result"
    }
   ],
   "source": [
    "A.union(B.intersection(C))"
   ]
  },
  {
   "cell_type": "code",
   "execution_count": 10,
   "metadata": {},
   "outputs": [
    {
     "data": {
      "text/plain": [
       "{1, 2, 3, 5}"
      ]
     },
     "execution_count": 10,
     "metadata": {},
     "output_type": "execute_result"
    }
   ],
   "source": [
    "A.union(B).intersection(A.union(C))"
   ]
  },
  {
   "cell_type": "code",
   "execution_count": 11,
   "metadata": {},
   "outputs": [
    {
     "data": {
      "text/plain": [
       "{'♠', '♡', '♢', '♣'}"
      ]
     },
     "execution_count": 11,
     "metadata": {},
     "output_type": "execute_result"
    }
   ],
   "source": [
    "A = {'\\u2660', '\\u2661', '\\u2662', '\\u2663'}\n",
    "A"
   ]
  },
  {
   "cell_type": "code",
   "execution_count": 12,
   "metadata": {},
   "outputs": [
    {
     "data": {
      "text/plain": [
       "{('♣',): 0.25, ('♢',): 0.25, ('♡',): 0.25, ('♠',): 0.25}"
      ]
     },
     "execution_count": 12,
     "metadata": {},
     "output_type": "execute_result"
    }
   ],
   "source": [
    "samples = list(combinations(A, 1))\n",
    "{sample : 0.25 for sample in samples}"
   ]
  },
  {
   "cell_type": "code",
   "execution_count": 13,
   "metadata": {},
   "outputs": [],
   "source": [
    "B = ('HH', 'HT', 'TH', 'TT')\n",
    "a = list(chain(*frozenset(combinations(B, r) for r in range(len(B)+1))))"
   ]
  },
  {
   "cell_type": "code",
   "execution_count": 14,
   "metadata": {},
   "outputs": [],
   "source": [
    "C = (1,2,3,4,5,6)\n",
    "a = list(chain(*frozenset(combinations(C, r) for r in range(len(B)+1))))"
   ]
  },
  {
   "cell_type": "code",
   "execution_count": 15,
   "metadata": {},
   "outputs": [
    {
     "data": {
      "text/plain": [
       "[(),\n",
       " (1,),\n",
       " (2,),\n",
       " (3,),\n",
       " (4,),\n",
       " (5,),\n",
       " (6,),\n",
       " (1, 2),\n",
       " (1, 3),\n",
       " (1, 4),\n",
       " (1, 5),\n",
       " (1, 6),\n",
       " (2, 3),\n",
       " (2, 4),\n",
       " (2, 5),\n",
       " (2, 6),\n",
       " (3, 4),\n",
       " (3, 5),\n",
       " (3, 6),\n",
       " (4, 5),\n",
       " (4, 6),\n",
       " (5, 6),\n",
       " (1, 2, 3),\n",
       " (1, 2, 4),\n",
       " (1, 2, 5),\n",
       " (1, 2, 6),\n",
       " (1, 3, 4),\n",
       " (1, 3, 5),\n",
       " (1, 3, 6),\n",
       " (1, 4, 5),\n",
       " (1, 4, 6),\n",
       " (1, 5, 6),\n",
       " (2, 3, 4),\n",
       " (2, 3, 5),\n",
       " (2, 3, 6),\n",
       " (2, 4, 5),\n",
       " (2, 4, 6),\n",
       " (2, 5, 6),\n",
       " (3, 4, 5),\n",
       " (3, 4, 6),\n",
       " (3, 5, 6),\n",
       " (4, 5, 6),\n",
       " (1, 2, 3, 4),\n",
       " (1, 2, 3, 5),\n",
       " (1, 2, 3, 6),\n",
       " (1, 2, 4, 5),\n",
       " (1, 2, 4, 6),\n",
       " (1, 2, 5, 6),\n",
       " (1, 3, 4, 5),\n",
       " (1, 3, 4, 6),\n",
       " (1, 3, 5, 6),\n",
       " (1, 4, 5, 6),\n",
       " (2, 3, 4, 5),\n",
       " (2, 3, 4, 6),\n",
       " (2, 3, 5, 6),\n",
       " (2, 4, 5, 6),\n",
       " (3, 4, 5, 6)]"
      ]
     },
     "execution_count": 15,
     "metadata": {},
     "output_type": "execute_result"
    }
   ],
   "source": [
    "a"
   ]
  },
  {
   "cell_type": "code",
   "execution_count": 16,
   "metadata": {},
   "outputs": [
    {
     "data": {
      "text/plain": [
       "{(): 0,\n",
       " (1,): 0.5,\n",
       " (2,): 0.125,\n",
       " (3,): 0.125,\n",
       " (4,): 0.125,\n",
       " (5,): 0.125,\n",
       " (6,): 0,\n",
       " (1, 2): 0.625,\n",
       " (1, 3): 0.625,\n",
       " (1, 4): 0.625,\n",
       " (1, 5): 0.625,\n",
       " (1, 6): 0.5,\n",
       " (2, 3): 0.25,\n",
       " (2, 4): 0.25,\n",
       " (2, 5): 0.25,\n",
       " (2, 6): 0.125,\n",
       " (3, 4): 0.25,\n",
       " (3, 5): 0.25,\n",
       " (3, 6): 0.125,\n",
       " (4, 5): 0.25,\n",
       " (4, 6): 0.125,\n",
       " (5, 6): 0.125,\n",
       " (1, 2, 3): 0.75,\n",
       " (1, 2, 4): 0.75,\n",
       " (1, 2, 5): 0.75,\n",
       " (1, 2, 6): 0.625,\n",
       " (1, 3, 4): 0.75,\n",
       " (1, 3, 5): 0.75,\n",
       " (1, 3, 6): 0.625,\n",
       " (1, 4, 5): 0.75,\n",
       " (1, 4, 6): 0.625,\n",
       " (1, 5, 6): 0.625,\n",
       " (2, 3, 4): 0.375,\n",
       " (2, 3, 5): 0.375,\n",
       " (2, 3, 6): 0.25,\n",
       " (2, 4, 5): 0.375,\n",
       " (2, 4, 6): 0.25,\n",
       " (2, 5, 6): 0.25,\n",
       " (3, 4, 5): 0.375,\n",
       " (3, 4, 6): 0.25,\n",
       " (3, 5, 6): 0.25,\n",
       " (4, 5, 6): 0.25,\n",
       " (1, 2, 3, 4): 0.875,\n",
       " (1, 2, 3, 5): 0.875,\n",
       " (1, 2, 3, 6): 0.75,\n",
       " (1, 2, 4, 5): 0.875,\n",
       " (1, 2, 4, 6): 0.75,\n",
       " (1, 2, 5, 6): 0.75,\n",
       " (1, 3, 4, 5): 0.875,\n",
       " (1, 3, 4, 6): 0.75,\n",
       " (1, 3, 5, 6): 0.75,\n",
       " (1, 4, 5, 6): 0.75,\n",
       " (2, 3, 4, 5): 0.5,\n",
       " (2, 3, 4, 6): 0.375,\n",
       " (2, 3, 5, 6): 0.375,\n",
       " (2, 4, 5, 6): 0.375,\n",
       " (3, 4, 5, 6): 0.375}"
      ]
     },
     "execution_count": 16,
     "metadata": {},
     "output_type": "execute_result"
    }
   ],
   "source": [
    "P3 = {}\n",
    "for i in a:\n",
    "    probability = 0\n",
    "    if 1 in i:\n",
    "        probability += 0.5   \n",
    "    if 2 in i:\n",
    "        probability += 0.125 \n",
    "    if 3 in i:\n",
    "        probability += 0.125\n",
    "    if 4 in i:\n",
    "        probability += 0.125 \n",
    "    if 5 in i:\n",
    "        probability += 0.125\n",
    "    if 6 in i:\n",
    "        probability += 0\n",
    "    \n",
    "    P3[i] = probability\n",
    "P3"
   ]
  },
  {
   "cell_type": "code",
   "execution_count": 21,
   "metadata": {},
   "outputs": [
    {
     "data": {
      "text/plain": [
       "(0.6666666666666666, 0.5)"
      ]
     },
     "execution_count": 21,
     "metadata": {},
     "output_type": "execute_result"
    }
   ],
   "source": [
    "\n",
    "\n",
    "def p(a,b):\n",
    "    if a<=180 and b<=180:\n",
    "        return (b-a) / 180 * 2/3\n",
    "    elif a<=180 and b>180:\n",
    "        return ((180-a) / 180 * 2/3) + ((b-180) / 180 * 1/3)\n",
    "    elif a>180 and b>180:\n",
    "        return (b-a) / 180 * 1/3\n",
    "    else:\n",
    "        return 1\n",
    "\n",
    "p(0,180), p(90,270)"
   ]
  },
  {
   "cell_type": "code",
   "execution_count": 22,
   "metadata": {},
   "outputs": [
    {
     "data": {
      "text/plain": [
       "(10, 8, 8, 8, 3)"
      ]
     },
     "execution_count": 22,
     "metadata": {},
     "output_type": "execute_result"
    }
   ],
   "source": [
    "8 and 10, 10 and 8, 8 & 10, 10 & 8, 27&35"
   ]
  },
  {
   "cell_type": "code",
   "execution_count": 40,
   "metadata": {},
   "outputs": [
    {
     "data": {
      "image/png": "[encoded data removed]",
      "text/plain": [
       "<Figure size 432x288 with 1 Axes>"
      ]
     },
     "metadata": {
      "needs_background": "light"
     },
     "output_type": "display_data"
    }
   ],
   "source": [
    "import numpy as np\n",
    "import matplotlib.pyplot as plt\n",
    "\n",
    "def F(x):\n",
    "    if x < 0:\n",
    "        return 0\n",
    "    elif x <= 180:\n",
    "        return x / 180 * 2 / 3\n",
    "    elif x <= 360:\n",
    "        return ((x-180)/180/3) + (2/3)\n",
    "    else:\n",
    "        return 1\n",
    "\n",
    "x = np.linspace(-50, 390, 45)\n",
    "# plt.plot(x, F(x))\n",
    "# plt.show()\n",
    "y = np.array(list(map(F,x)))\n",
    "plt.plot(x, y)\n",
    "plt.show()"
   ]
  },
  {
   "cell_type": "code",
   "execution_count": 41,
   "metadata": {},
   "outputs": [
    {
     "name": "stderr",
     "output_type": "stream",
     "text": [
      "C:\\Users\\ghdak\\anaconda3\\envs\\tf_gpu\\lib\\site-packages\\matplotlib\\backends\\backend_agg.py:240: RuntimeWarning: Glyph 8722 missing from current font.\n",
      "  font.set_text(s, 0.0, flags=flags)\n",
      "C:\\Users\\ghdak\\anaconda3\\envs\\tf_gpu\\lib\\site-packages\\matplotlib\\backends\\backend_agg.py:203: RuntimeWarning: Glyph 8722 missing from current font.\n",
      "  font.set_text(s, 0, flags=flags)\n"
     ]
    },
    {
     "data": {
      "image/png": "[encoded data removed]",
      "text/plain": [
       "<Figure size 432x288 with 1 Axes>"
      ]
     },
     "metadata": {
      "needs_background": "light"
     },
     "output_type": "display_data"
    }
   ],
   "source": [
    "def den_pro(x):\n",
    "    if x < 0:\n",
    "        return 0\n",
    "    elif x <= 180:\n",
    "        return 2/3/180\n",
    "    elif x <= 360:\n",
    "        return 1/3/180\n",
    "    else:\n",
    "        return 0\n",
    "\n",
    "x = np.linspace(-200,500,700)\n",
    "y = [den_pro(x) for x in x]\n",
    "plt.plot(x,y)\n",
    "plt.show()"
   ]
  },
  {
   "cell_type": "code",
   "execution_count": null,
   "metadata": {},
   "outputs": [],
   "source": []
  }
 ],
 "metadata": {
  "interpreter": {
   "hash": "be3a450ae056f83d7ade2b901f772a26fc828bc81af96bc522c29bb44d5db4b0"
  },
  "kernelspec": {
   "display_name": "Python 3.9.6 64-bit ('tf_gpu': conda)",
   "name": "python3"
  },
  "language_info": {
   "codemirror_mode": {
    "name": "ipython",
    "version": 3
   },
   "file_extension": ".py",
   "mimetype": "text/x-python",
   "name": "python",
   "nbconvert_exporter": "python",
   "pygments_lexer": "ipython3",
   "version": "3.9.6"
  },
  "orig_nbformat": 4
 },
 "nbformat": 4,
 "nbformat_minor": 2
}
