{
 "cells": [
  {
   "cell_type": "code",
   "execution_count": 1,
   "metadata": {},
   "outputs": [],
   "source": [
    "from pgmpy.factors.discrete import JointProbabilityDistribution as JPD"
   ]
  },
  {
   "cell_type": "code",
   "execution_count": 2,
   "metadata": {},
   "outputs": [
    {
     "name": "stdout",
     "output_type": "stream",
     "text": [
      "+------+--------+\n",
      "| X    |   P(X) |\n",
      "+======+========+\n",
      "| X(0) | 0.6000 |\n",
      "+------+--------+\n",
      "| X(1) | 0.4000 |\n",
      "+------+--------+\n"
     ]
    }
   ],
   "source": [
    "import numpy as np\n",
    "px = JPD(['X'], [2], np.array([12,8])/20)\n",
    "print(px)"
   ]
  },
  {
   "cell_type": "code",
   "execution_count": 3,
   "metadata": {},
   "outputs": [
    {
     "name": "stdout",
     "output_type": "stream",
     "text": [
      "+------+--------+\n",
      "| Y    |   P(Y) |\n",
      "+======+========+\n",
      "| Y(0) | 0.5000 |\n",
      "+------+--------+\n",
      "| Y(1) | 0.5000 |\n",
      "+------+--------+\n"
     ]
    }
   ],
   "source": [
    "py = JPD(['Y'], [2], np.array([10,10])/20)\n",
    "print(py)"
   ]
  },
  {
   "cell_type": "code",
   "execution_count": 4,
   "metadata": {},
   "outputs": [],
   "source": [
    "from pgmpy.factors.discrete import TabularCPD"
   ]
  },
  {
   "cell_type": "code",
   "execution_count": 5,
   "metadata": {},
   "outputs": [
    {
     "name": "stdout",
     "output_type": "stream",
     "text": [
      "+------+-------+\n",
      "| X(0) | 0.998 |\n",
      "+------+-------+\n",
      "| X(1) | 0.002 |\n",
      "+------+-------+\n"
     ]
    }
   ],
   "source": [
    "cpd_X = TabularCPD('X', 2, [[1 - 0.002], [0.002]])\n",
    "print(cpd_X)\n"
   ]
  },
  {
   "cell_type": "code",
   "execution_count": 6,
   "metadata": {},
   "outputs": [
    {
     "name": "stdout",
     "output_type": "stream",
     "text": [
      "+------+------+------+\n",
      "| X    | X(0) | X(1) |\n",
      "+------+------+------+\n",
      "| Y(0) | 0.95 | 0.01 |\n",
      "+------+------+------+\n",
      "| Y(1) | 0.05 | 0.99 |\n",
      "+------+------+------+\n"
     ]
    }
   ],
   "source": [
    "cpd_Y_on_X = TabularCPD('Y', 2, np.array([[0.95, 0.01], [0.05, 0.99]]), evidence=['X'], evidence_card=[2])\n",
    "print(cpd_Y_on_X)"
   ]
  },
  {
   "cell_type": "code",
   "execution_count": 7,
   "metadata": {},
   "outputs": [],
   "source": [
    "from pgmpy.models import BayesianModel"
   ]
  },
  {
   "cell_type": "code",
   "execution_count": 8,
   "metadata": {},
   "outputs": [
    {
     "name": "stderr",
     "output_type": "stream",
     "text": [
      "C:\\Users\\ghdak\\anaconda3\\envs\\gpu_env\\lib\\site-packages\\pgmpy\\models\\BayesianModel.py:8: FutureWarning: BayesianModel has been renamed to BayesianNetwork. Please use BayesianNewtork class, BayesianModel will be removed in future.\n",
      "  warnings.warn(\n"
     ]
    },
    {
     "data": {
      "text/plain": [
       "True"
      ]
     },
     "execution_count": 8,
     "metadata": {},
     "output_type": "execute_result"
    }
   ],
   "source": [
    "model = BayesianModel([('X','Y')]) # 모델 인스턴스 생성\n",
    "model.add_cpds(cpd_X, cpd_Y_on_X)  # 조건부확률 추가\n",
    "model.check_model() # 모델 잘구성됐는지 확인  >> Baysenetwork"
   ]
  },
  {
   "cell_type": "code",
   "execution_count": 9,
   "metadata": {},
   "outputs": [
    {
     "name": "stderr",
     "output_type": "stream",
     "text": [
      "Finding Elimination Order: : : 0it [00:00, ?it/s]\n",
      "0it [00:00, ?it/s]"
     ]
    },
    {
     "name": "stdout",
     "output_type": "stream",
     "text": [
      "+------+----------+\n",
      "| X    |   phi(X) |\n",
      "+======+==========+\n",
      "| X(0) |   0.9618 |\n",
      "+------+----------+\n",
      "| X(1) |   0.0382 |\n",
      "+------+----------+\n"
     ]
    },
    {
     "name": "stderr",
     "output_type": "stream",
     "text": [
      "\n"
     ]
    }
   ],
   "source": [
    "from pgmpy.inference import VariableElimination\n",
    "\n",
    "inference = VariableElimination(model)\n",
    "posterior = inference.query(['X'], evidence={'Y': 1})\n",
    "print(posterior) "
   ]
  },
  {
   "cell_type": "code",
   "execution_count": null,
   "metadata": {},
   "outputs": [],
   "source": []
  }
 ],
 "metadata": {
  "interpreter": {
   "hash": "be3a450ae056f83d7ade2b901f772a26fc828bc81af96bc522c29bb44d5db4b0"
  },
  "kernelspec": {
   "display_name": "Python 3.9.6 64-bit ('tf_gpu': conda)",
   "name": "python3"
  },
  "language_info": {
   "codemirror_mode": {
    "name": "ipython",
    "version": 3
   },
   "file_extension": ".py",
   "mimetype": "text/x-python",
   "name": "python",
   "nbconvert_exporter": "python",
   "pygments_lexer": "ipython3",
   "version": "3.9.7"
  },
  "orig_nbformat": 4
 },
 "nbformat": 4,
 "nbformat_minor": 2
}
