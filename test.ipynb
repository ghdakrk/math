{
 "cells": [
  {
   "cell_type": "code",
   "execution_count": 5,
   "metadata": {},
   "outputs": [],
   "source": [
    "import numpy as np\n",
    "import scipy as sp\n",
    "import pandas as pd\n",
    "import  matplotlib.pyplot as plt\n",
    "import matplotlib as mpl\n",
    "import seaborn as sns\n",
    "import sklearn as sk\n",
    "import statsmodels.api as sm\n",
    "plt.rc(\"font\", family=\"Malgun Gothic\")\n",
    "mpl.rcParams['axes.unicode_minus'] = False\n"
   ]
  },
  {
   "cell_type": "code",
   "execution_count": 1,
   "metadata": {},
   "outputs": [
    {
     "data": {
      "text/plain": [
       "0.8333333333333333"
      ]
     },
     "execution_count": 1,
     "metadata": {},
     "output_type": "execute_result"
    }
   ],
   "source": [
    "def P(a, b):\n",
    "    if a > b:\n",
    "        raise ValueError('a must be less than b or equal to b')\n",
    "    \n",
    "    else:\n",
    "        a = np.maximum(a, 0)\n",
    "        b = np.minimum(b, 360)\n",
    "\n",
    "        if b < 180:\n",
    "            return (2/3) * ((b-a) / 180)\n",
    "        else:\n",
    "            if a < 180:\n",
    "                return(2/3) * ((180-a)/180) + (1/3) * ((b-180)/180)\n",
    "            else:\n",
    "                return (1/3) * ((((b-a)/180)))\n",
    "P(0,270)"
   ]
  }
 ],
 "metadata": {
  "interpreter": {
   "hash": "54387832db31c04c70204a78dd647cc6fb157a6f1a7283acdd6edc68dd57e0a6"
  },
  "kernelspec": {
   "display_name": "Python 3.8.8 64-bit ('base': conda)",
   "name": "python3"
  },
  "language_info": {
   "codemirror_mode": {
    "name": "ipython",
    "version": 3
   },
   "file_extension": ".py",
   "mimetype": "text/x-python",
   "name": "python",
   "nbconvert_exporter": "python",
   "pygments_lexer": "ipython3",
   "version": "3.9.7"
  },
  "orig_nbformat": 4
 },
 "nbformat": 4,
 "nbformat_minor": 2
}
