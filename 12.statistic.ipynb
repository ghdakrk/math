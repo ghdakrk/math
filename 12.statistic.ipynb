{
 "cells": [
  {
   "cell_type": "code",
   "execution_count": 1,
   "metadata": {},
   "outputs": [],
   "source": [
    "import numpy as np\n",
    "import scipy as sp\n",
    "import pandas as pd\n",
    "import  matplotlib.pyplot as plt\n",
    "import matplotlib as mpl\n",
    "import seaborn as sns\n",
    "import sklearn as sk\n",
    "import statsmodels.api as sm\n",
    "plt.rc(\"font\", family=\"Malgun Gothic\")\n",
    "mpl.rcParams['axes.unicode_minus'] = False\n"
   ]
  },
  {
   "cell_type": "code",
   "execution_count": 2,
   "metadata": {},
   "outputs": [],
   "source": [
    "X1 = np.random.normal(size=100)\n",
    "X2 = np.random.normal(size=100)\n",
    "X = X1 + X2"
   ]
  },
  {
   "cell_type": "code",
   "execution_count": 3,
   "metadata": {},
   "outputs": [
    {
     "data": {
      "text/plain": [
       "(1.939063883339218, 1.6706016764153935)"
      ]
     },
     "execution_count": 3,
     "metadata": {},
     "output_type": "execute_result"
    }
   ],
   "source": [
    "np.var(X), np.var(X1) + np.var(X2)"
   ]
  },
  {
   "cell_type": "code",
   "execution_count": 4,
   "metadata": {},
   "outputs": [
    {
     "data": {
      "text/plain": [
       "0.07928180154581738"
      ]
     },
     "execution_count": 4,
     "metadata": {},
     "output_type": "execute_result"
    }
   ],
   "source": [
    "X1 = np.random.rand(100)\n",
    "np.var(X1)"
   ]
  },
  {
   "cell_type": "code",
   "execution_count": 5,
   "metadata": {},
   "outputs": [
    {
     "data": {
      "text/plain": [
       "(0.0008109961935556806, 0.08685433355176371)"
      ]
     },
     "execution_count": 5,
     "metadata": {},
     "output_type": "execute_result"
    }
   ],
   "source": [
    "X_mean = []\n",
    "X_var = []\n",
    "for i in range(50):\n",
    "    a = (np.random.rand(100))\n",
    "    X_mean.append(np.mean(a))\n",
    "    X_var.append(np.var(a))\n",
    "np.var(X_mean), X_var[0]"
   ]
  },
  {
   "cell_type": "code",
   "execution_count": 6,
   "metadata": {},
   "outputs": [
    {
     "data": {
      "text/plain": [
       "(1.986, 1.9986120000000003)"
      ]
     },
     "execution_count": 6,
     "metadata": {},
     "output_type": "execute_result"
    }
   ],
   "source": [
    "omega = [1,2,3]\n",
    "x_bar1 = []\n",
    "for i in range(1000):\n",
    "    x_bar1.append(np.mean(np.random.randint(1,4,5)))\n",
    "\n",
    "x_bar2 = []\n",
    "for i in range(10):\n",
    "    x_bar2.append(np.mean(np.random.randint(1,4,50000)))   \n",
    "\n",
    "np.mean(x_bar1), np.mean(x_bar2)"
   ]
  },
  {
   "cell_type": "code",
   "execution_count": 10,
   "metadata": {},
   "outputs": [],
   "source": [
    "from sklearn.datasets import load_iris\n",
    "from scipy import stats\n",
    "X = load_iris().data\n",
    "X1 = X[:, 0]\n",
    "X2 = X[:, 1]\n",
    "X3 = X[:, 2]\n",
    "X4 = X[:, 3]"
   ]
  },
  {
   "cell_type": "code",
   "execution_count": 14,
   "metadata": {},
   "outputs": [
    {
     "data": {
      "text/plain": [
       "(-0.11756978413300204, 0.962865431402796, -0.3661259325364391)"
      ]
     },
     "execution_count": 14,
     "metadata": {},
     "output_type": "execute_result"
    }
   ],
   "source": [
    "stats.pearsonr(X1, X2)[0], stats.pearsonr(X3, X4)[0], stats.pearsonr(X2, X4)[0]"
   ]
  },
  {
   "cell_type": "code",
   "execution_count": 25,
   "metadata": {},
   "outputs": [
    {
     "data": {
      "text/plain": [
       "(-0.24124014758753512, 0.5019408622873808)"
      ]
     },
     "execution_count": 25,
     "metadata": {},
     "output_type": "execute_result"
    }
   ],
   "source": [
    "a = np.random.randint(0,10,10)\n",
    "b = np.random.randint(0,10,10)\n",
    "stats.pearsonr(a, b)"
   ]
  },
  {
   "cell_type": "code",
   "execution_count": 38,
   "metadata": {},
   "outputs": [
    {
     "data": {
      "text/plain": [
       "(-1.0, 0.0)"
      ]
     },
     "execution_count": 38,
     "metadata": {},
     "output_type": "execute_result"
    }
   ],
   "source": [
    "pick =  np.random.randint(0,10,3)\n",
    "a_bar = [a[i] for i in pick]\n",
    "b_bar = [b[i] for i in pick]\n",
    "stats.pearsonr(a_bar, b_bar)"
   ]
  },
  {
   "cell_type": "code",
   "execution_count": 55,
   "metadata": {},
   "outputs": [
    {
     "data": {
      "text/plain": [
       "(0.020110493642031976, 0.044325317021311914)"
      ]
     },
     "execution_count": 55,
     "metadata": {},
     "output_type": "execute_result"
    }
   ],
   "source": [
    "a = np.random.randint(0,10,10000)\n",
    "b = np.random.randint(0,10,10000)\n",
    "stats.pearsonr(a, b)"
   ]
  },
  {
   "cell_type": "code",
   "execution_count": 61,
   "metadata": {},
   "outputs": [
    {
     "data": {
      "text/plain": [
       "(-0.3695709805385222, 0.0)"
      ]
     },
     "execution_count": 61,
     "metadata": {},
     "output_type": "execute_result"
    }
   ],
   "source": [
    "pick =  np.random.randint(0,10,100000)\n",
    "a_bar = [a[i] for i in pick]\n",
    "b_bar = [b[i] for i in pick]\n",
    "stats.pearsonr(a_bar, b_bar)"
   ]
  },
  {
   "cell_type": "code",
   "execution_count": 67,
   "metadata": {},
   "outputs": [
    {
     "data": {
      "text/plain": [
       "(5.843333333333334, 3.0573333333333337, 3.7580000000000005, 1.1993333333333336)"
      ]
     },
     "execution_count": 67,
     "metadata": {},
     "output_type": "execute_result"
    }
   ],
   "source": [
    "X1.mean(), X2.mean(), X3.mean(), X4.mean()"
   ]
  },
  {
   "cell_type": "code",
   "execution_count": 75,
   "metadata": {},
   "outputs": [
    {
     "data": {
      "text/plain": [
       "array([[1, 0, 0],\n",
       "       [1, 1, 0]])"
      ]
     },
     "execution_count": 75,
     "metadata": {},
     "output_type": "execute_result"
    }
   ],
   "source": [
    "np.vstack((np.array([[1,0,0]]), np.array([[1,1,0]])))"
   ]
  },
  {
   "cell_type": "code",
   "execution_count": 79,
   "metadata": {},
   "outputs": [],
   "source": [
    "X_bar = np.vstack((X1-X1.mean(), X2-X2.mean(), X3-X3.mean(), X4-X4.mean()))"
   ]
  },
  {
   "cell_type": "code",
   "execution_count": 82,
   "metadata": {},
   "outputs": [
    {
     "data": {
      "text/plain": [
       "array([[ 0.68112222, -0.04215111,  1.26582   ,  0.51282889],\n",
       "       [-0.04215111,  0.18871289, -0.32745867, -0.12082844],\n",
       "       [ 1.26582   , -0.32745867,  3.09550267,  1.286972  ],\n",
       "       [ 0.51282889, -0.12082844,  1.286972  ,  0.57713289]])"
      ]
     },
     "execution_count": 82,
     "metadata": {},
     "output_type": "execute_result"
    }
   ],
   "source": [
    "1 / 150 * X_bar @ X_bar.T"
   ]
  },
  {
   "cell_type": "code",
   "execution_count": 83,
   "metadata": {},
   "outputs": [
    {
     "data": {
      "text/plain": [
       "array([[ 0.68112222, -0.04215111,  1.26582   ,  0.51282889],\n",
       "       [-0.04215111,  0.18871289, -0.32745867, -0.12082844],\n",
       "       [ 1.26582   , -0.32745867,  3.09550267,  1.286972  ],\n",
       "       [ 0.51282889, -0.12082844,  1.286972  ,  0.57713289]])"
      ]
     },
     "execution_count": 83,
     "metadata": {},
     "output_type": "execute_result"
    }
   ],
   "source": [
    "np.cov(X.T, ddof=0)"
   ]
  },
  {
   "cell_type": "code",
   "execution_count": null,
   "metadata": {},
   "outputs": [],
   "source": []
  }
 ],
 "metadata": {
  "interpreter": {
   "hash": "74c836ce15075f4ca5d2c1e02dd832651d0d5136e5f1c91f13c26045b791040c"
  },
  "kernelspec": {
   "display_name": "Python 3.9.7 64-bit ('gpu_env': conda)",
   "language": "python",
   "name": "python3"
  },
  "language_info": {
   "codemirror_mode": {
    "name": "ipython",
    "version": 3
   },
   "file_extension": ".py",
   "mimetype": "text/x-python",
   "name": "python",
   "nbconvert_exporter": "python",
   "pygments_lexer": "ipython3",
   "version": "3.9.7"
  },
  "orig_nbformat": 4
 },
 "nbformat": 4,
 "nbformat_minor": 2
}
